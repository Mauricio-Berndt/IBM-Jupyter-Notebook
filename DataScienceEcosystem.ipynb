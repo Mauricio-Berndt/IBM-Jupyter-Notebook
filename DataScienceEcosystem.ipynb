{
 "cells": [
  {
   "cell_type": "markdown",
   "id": "e7b312c0-46f7-47bb-8701-22155af4aa2a",
   "metadata": {},
   "source": [
    "# Data Science Tools and Ecosystem"
   ]
  },
  {
   "cell_type": "markdown",
   "id": "1f0d2822-6e1c-4580-b637-97f22ffde47d",
   "metadata": {},
   "source": [
    "In this notebook, Data Science Tools and Ecosystem and Summarized."
   ]
  },
  {
   "cell_type": "markdown",
   "id": "6eccc169-7322-4950-a65e-c91873c77dea",
   "metadata": {},
   "source": [
    "Objectives:\n",
    "- List popular languages used in DS\n",
    "- List popular libraries used in DS\n",
    "- Presenting in a table some DS Tools\n",
    "- Evaluating some arithmetic expressions (multiply and add integers / dividing integers)"
   ]
  },
  {
   "cell_type": "markdown",
   "id": "5106239c-92ce-465a-a837-7a0b15fc6df3",
   "metadata": {},
   "source": [
    "Some of the popular languages that Data Scientists use are: \n",
    "1. Python\n",
    "2. R\n",
    "3. SQL\n",
    "4. C++\n",
    "5. Julia"
   ]
  },
  {
   "cell_type": "markdown",
   "id": "e0ab458d-9f63-40ec-a6a3-63304cf3a5b2",
   "metadata": {},
   "source": [
    "Some of the commonly used libraries used by Data Scientists include:\n",
    "1. Numpy\n",
    "2. Pandas\n",
    "3. Ggplot\n",
    "4. dplyr\n",
    "5. TensorFlow\n",
    "6. MatPlotLib"
   ]
  },
  {
   "cell_type": "markdown",
   "id": "c0de3110-4848-42a8-ad52-2a8d3876d40d",
   "metadata": {},
   "source": [
    "|Data Science Tools|\n",
    "|-----------------|\n",
    "|Jupyter Notebooks|\n",
    "|RStudio|\n",
    "|Apache Spark|"
   ]
  },
  {
   "cell_type": "markdown",
   "id": "bc0e70aa-1d96-4f1a-967d-821c3c6054bd",
   "metadata": {},
   "source": [
    "### Below are a few examples of evaluating arithmetic expressions in python. "
   ]
  },
  {
   "cell_type": "code",
   "execution_count": 12,
   "id": "5f9a63fa-1b1b-48a0-ae6a-d5c849646486",
   "metadata": {},
   "outputs": [
    {
     "data": {
      "text/plain": [
       "17"
      ]
     },
     "execution_count": 12,
     "metadata": {},
     "output_type": "execute_result"
    }
   ],
   "source": [
    "#This is a  simple arithmetic expression to multiply then add integers\n",
    "(3*4)+5"
   ]
  },
  {
   "cell_type": "code",
   "execution_count": 13,
   "id": "352b9a12-4f81-4547-934f-56d422da2e16",
   "metadata": {},
   "outputs": [
    {
     "name": "stdout",
     "output_type": "stream",
     "text": [
      "3.3333333333333335 hours\n"
     ]
    }
   ],
   "source": [
    "#This will convert 200 minutes to hours by dividing by 60\n",
    "c = 200/60 \n",
    "print(c,\"hours\")"
   ]
  },
  {
   "cell_type": "markdown",
   "id": "4e18f85f-7558-48c7-b96f-cc4ed64fa5af",
   "metadata": {},
   "source": [
    "## Author\n",
    "Mauricio Berndt"
   ]
  }
 ],
 "metadata": {
  "kernelspec": {
   "display_name": "Python 3 (ipykernel)",
   "language": "python",
   "name": "python3"
  },
  "language_info": {
   "codemirror_mode": {
    "name": "ipython",
    "version": 3
   },
   "file_extension": ".py",
   "mimetype": "text/x-python",
   "name": "python",
   "nbconvert_exporter": "python",
   "pygments_lexer": "ipython3",
   "version": "3.13.5"
  }
 },
 "nbformat": 4,
 "nbformat_minor": 5
}
